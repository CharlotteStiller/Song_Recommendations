{
 "cells": [
  {
   "cell_type": "markdown",
   "metadata": {},
   "source": [
    "## Clustering my top Spotify songs with k-means"
   ]
  },
  {
   "cell_type": "markdown",
   "metadata": {},
   "source": [
    "1) Load libaries"
   ]
  },
  {
   "cell_type": "code",
   "execution_count": 33,
   "metadata": {},
   "outputs": [],
   "source": [
    "import requests\n",
    "import pandas as pd\n",
    "import numpy as np\n",
    "from sklearn.cluster import KMeans\n",
    "import matplotlib.pyplot as plt\n",
    "import warnings\n",
    "import spotipy\n",
    "from spotipy.oauth2 import SpotifyClientCredentials\n",
    "warnings.filterwarnings('ignore')"
   ]
  },
  {
   "cell_type": "markdown",
   "metadata": {},
   "source": [
    "2) Load data (Top_Spotify_Songs.ipynb)"
   ]
  },
  {
   "cell_type": "code",
   "execution_count": 5,
   "metadata": {},
   "outputs": [
    {
     "data": {
      "text/html": [
       "<div>\n",
       "<style scoped>\n",
       "    .dataframe tbody tr th:only-of-type {\n",
       "        vertical-align: middle;\n",
       "    }\n",
       "\n",
       "    .dataframe tbody tr th {\n",
       "        vertical-align: top;\n",
       "    }\n",
       "\n",
       "    .dataframe thead th {\n",
       "        text-align: right;\n",
       "    }\n",
       "</style>\n",
       "<table border=\"1\" class=\"dataframe\">\n",
       "  <thead>\n",
       "    <tr style=\"text-align: right;\">\n",
       "      <th></th>\n",
       "      <th>danceability</th>\n",
       "      <th>energy</th>\n",
       "      <th>loudness</th>\n",
       "      <th>speechiness</th>\n",
       "      <th>acousticness</th>\n",
       "      <th>instrumentalness</th>\n",
       "      <th>liveness</th>\n",
       "      <th>valence</th>\n",
       "      <th>tempo</th>\n",
       "      <th>duration_ms</th>\n",
       "    </tr>\n",
       "  </thead>\n",
       "  <tbody>\n",
       "    <tr>\n",
       "      <th>0</th>\n",
       "      <td>0.693</td>\n",
       "      <td>0.572</td>\n",
       "      <td>-10.491</td>\n",
       "      <td>0.0410</td>\n",
       "      <td>0.3080</td>\n",
       "      <td>0.000405</td>\n",
       "      <td>0.0736</td>\n",
       "      <td>0.867</td>\n",
       "      <td>109.816</td>\n",
       "      <td>3.484983</td>\n",
       "    </tr>\n",
       "    <tr>\n",
       "      <th>1</th>\n",
       "      <td>0.459</td>\n",
       "      <td>0.500</td>\n",
       "      <td>-11.337</td>\n",
       "      <td>0.0367</td>\n",
       "      <td>0.8270</td>\n",
       "      <td>0.908000</td>\n",
       "      <td>0.3560</td>\n",
       "      <td>0.276</td>\n",
       "      <td>149.861</td>\n",
       "      <td>7.230700</td>\n",
       "    </tr>\n",
       "    <tr>\n",
       "      <th>2</th>\n",
       "      <td>0.811</td>\n",
       "      <td>0.553</td>\n",
       "      <td>-9.257</td>\n",
       "      <td>0.0447</td>\n",
       "      <td>0.6250</td>\n",
       "      <td>0.159000</td>\n",
       "      <td>0.2020</td>\n",
       "      <td>0.765</td>\n",
       "      <td>100.547</td>\n",
       "      <td>4.366933</td>\n",
       "    </tr>\n",
       "    <tr>\n",
       "      <th>3</th>\n",
       "      <td>0.525</td>\n",
       "      <td>0.717</td>\n",
       "      <td>-6.060</td>\n",
       "      <td>0.0339</td>\n",
       "      <td>0.0716</td>\n",
       "      <td>0.575000</td>\n",
       "      <td>0.1210</td>\n",
       "      <td>0.211</td>\n",
       "      <td>130.898</td>\n",
       "      <td>4.717117</td>\n",
       "    </tr>\n",
       "    <tr>\n",
       "      <th>4</th>\n",
       "      <td>0.665</td>\n",
       "      <td>0.797</td>\n",
       "      <td>-9.172</td>\n",
       "      <td>0.0419</td>\n",
       "      <td>0.1240</td>\n",
       "      <td>0.017300</td>\n",
       "      <td>0.0958</td>\n",
       "      <td>0.717</td>\n",
       "      <td>143.176</td>\n",
       "      <td>3.384850</td>\n",
       "    </tr>\n",
       "  </tbody>\n",
       "</table>\n",
       "</div>"
      ],
      "text/plain": [
       "   danceability  energy  loudness  speechiness  acousticness  \\\n",
       "0         0.693   0.572   -10.491       0.0410        0.3080   \n",
       "1         0.459   0.500   -11.337       0.0367        0.8270   \n",
       "2         0.811   0.553    -9.257       0.0447        0.6250   \n",
       "3         0.525   0.717    -6.060       0.0339        0.0716   \n",
       "4         0.665   0.797    -9.172       0.0419        0.1240   \n",
       "\n",
       "   instrumentalness  liveness  valence    tempo  duration_ms  \n",
       "0          0.000405    0.0736    0.867  109.816     3.484983  \n",
       "1          0.908000    0.3560    0.276  149.861     7.230700  \n",
       "2          0.159000    0.2020    0.765  100.547     4.366933  \n",
       "3          0.575000    0.1210    0.211  130.898     4.717117  \n",
       "4          0.017300    0.0958    0.717  143.176     3.384850  "
      ]
     },
     "execution_count": 5,
     "metadata": {},
     "output_type": "execute_result"
    }
   ],
   "source": [
    "feautres = pd.read_csv('top_spotify_features.csv')\n",
    "feautres.head()"
   ]
  },
  {
   "cell_type": "code",
   "execution_count": 6,
   "metadata": {},
   "outputs": [
    {
     "data": {
      "text/html": [
       "<div>\n",
       "<style scoped>\n",
       "    .dataframe tbody tr th:only-of-type {\n",
       "        vertical-align: middle;\n",
       "    }\n",
       "\n",
       "    .dataframe tbody tr th {\n",
       "        vertical-align: top;\n",
       "    }\n",
       "\n",
       "    .dataframe thead th {\n",
       "        text-align: right;\n",
       "    }\n",
       "</style>\n",
       "<table border=\"1\" class=\"dataframe\">\n",
       "  <thead>\n",
       "    <tr style=\"text-align: right;\">\n",
       "      <th></th>\n",
       "      <th>0</th>\n",
       "      <th>1</th>\n",
       "      <th>2</th>\n",
       "      <th>3</th>\n",
       "      <th>4</th>\n",
       "      <th>5</th>\n",
       "      <th>6</th>\n",
       "      <th>7</th>\n",
       "      <th>8</th>\n",
       "      <th>9</th>\n",
       "    </tr>\n",
       "  </thead>\n",
       "  <tbody>\n",
       "    <tr>\n",
       "      <th>0</th>\n",
       "      <td>0.672926</td>\n",
       "      <td>0.574127</td>\n",
       "      <td>0.538020</td>\n",
       "      <td>0.062500</td>\n",
       "      <td>0.312142</td>\n",
       "      <td>0.000422</td>\n",
       "      <td>0.056358</td>\n",
       "      <td>0.888877</td>\n",
       "      <td>0.351322</td>\n",
       "      <td>0.206656</td>\n",
       "    </tr>\n",
       "    <tr>\n",
       "      <th>1</th>\n",
       "      <td>0.306729</td>\n",
       "      <td>0.497278</td>\n",
       "      <td>0.487407</td>\n",
       "      <td>0.045703</td>\n",
       "      <td>0.838688</td>\n",
       "      <td>0.945833</td>\n",
       "      <td>0.417252</td>\n",
       "      <td>0.232137</td>\n",
       "      <td>0.625875</td>\n",
       "      <td>0.783263</td>\n",
       "    </tr>\n",
       "    <tr>\n",
       "      <th>2</th>\n",
       "      <td>0.857590</td>\n",
       "      <td>0.553848</td>\n",
       "      <td>0.611846</td>\n",
       "      <td>0.076953</td>\n",
       "      <td>0.633751</td>\n",
       "      <td>0.165625</td>\n",
       "      <td>0.220447</td>\n",
       "      <td>0.775531</td>\n",
       "      <td>0.287772</td>\n",
       "      <td>0.342422</td>\n",
       "    </tr>\n",
       "    <tr>\n",
       "      <th>3</th>\n",
       "      <td>0.410016</td>\n",
       "      <td>0.728893</td>\n",
       "      <td>0.803111</td>\n",
       "      <td>0.034766</td>\n",
       "      <td>0.072305</td>\n",
       "      <td>0.598958</td>\n",
       "      <td>0.116933</td>\n",
       "      <td>0.159907</td>\n",
       "      <td>0.495862</td>\n",
       "      <td>0.396328</td>\n",
       "    </tr>\n",
       "    <tr>\n",
       "      <th>4</th>\n",
       "      <td>0.629108</td>\n",
       "      <td>0.814281</td>\n",
       "      <td>0.616931</td>\n",
       "      <td>0.066016</td>\n",
       "      <td>0.125467</td>\n",
       "      <td>0.018021</td>\n",
       "      <td>0.084728</td>\n",
       "      <td>0.722191</td>\n",
       "      <td>0.580042</td>\n",
       "      <td>0.191242</td>\n",
       "    </tr>\n",
       "  </tbody>\n",
       "</table>\n",
       "</div>"
      ],
      "text/plain": [
       "          0         1         2         3         4         5         6  \\\n",
       "0  0.672926  0.574127  0.538020  0.062500  0.312142  0.000422  0.056358   \n",
       "1  0.306729  0.497278  0.487407  0.045703  0.838688  0.945833  0.417252   \n",
       "2  0.857590  0.553848  0.611846  0.076953  0.633751  0.165625  0.220447   \n",
       "3  0.410016  0.728893  0.803111  0.034766  0.072305  0.598958  0.116933   \n",
       "4  0.629108  0.814281  0.616931  0.066016  0.125467  0.018021  0.084728   \n",
       "\n",
       "          7         8         9  \n",
       "0  0.888877  0.351322  0.206656  \n",
       "1  0.232137  0.625875  0.783263  \n",
       "2  0.775531  0.287772  0.342422  \n",
       "3  0.159907  0.495862  0.396328  \n",
       "4  0.722191  0.580042  0.191242  "
      ]
     },
     "execution_count": 6,
     "metadata": {},
     "output_type": "execute_result"
    }
   ],
   "source": [
    "feautres_scaled = pd.read_csv('top_spotify_features_scaled.csv')\n",
    "feautres_scaled.head()"
   ]
  },
  {
   "cell_type": "markdown",
   "metadata": {},
   "source": [
    "### Clustering with KMeans"
   ]
  },
  {
   "cell_type": "code",
   "execution_count": 12,
   "metadata": {},
   "outputs": [
    {
     "data": {
      "text/html": [
       "<div>\n",
       "<style scoped>\n",
       "    .dataframe tbody tr th:only-of-type {\n",
       "        vertical-align: middle;\n",
       "    }\n",
       "\n",
       "    .dataframe tbody tr th {\n",
       "        vertical-align: top;\n",
       "    }\n",
       "\n",
       "    .dataframe thead th {\n",
       "        text-align: right;\n",
       "    }\n",
       "</style>\n",
       "<table border=\"1\" class=\"dataframe\">\n",
       "  <thead>\n",
       "    <tr style=\"text-align: right;\">\n",
       "      <th></th>\n",
       "      <th>0</th>\n",
       "      <th>1</th>\n",
       "      <th>2</th>\n",
       "      <th>3</th>\n",
       "      <th>4</th>\n",
       "      <th>5</th>\n",
       "      <th>6</th>\n",
       "      <th>7</th>\n",
       "      <th>8</th>\n",
       "      <th>9</th>\n",
       "    </tr>\n",
       "  </thead>\n",
       "  <tbody>\n",
       "    <tr>\n",
       "      <th>0</th>\n",
       "      <td>0.672926</td>\n",
       "      <td>0.574127</td>\n",
       "      <td>0.538020</td>\n",
       "      <td>0.062500</td>\n",
       "      <td>0.312142</td>\n",
       "      <td>0.000422</td>\n",
       "      <td>0.056358</td>\n",
       "      <td>0.888877</td>\n",
       "      <td>0.351322</td>\n",
       "      <td>0.206656</td>\n",
       "    </tr>\n",
       "    <tr>\n",
       "      <th>1</th>\n",
       "      <td>0.306729</td>\n",
       "      <td>0.497278</td>\n",
       "      <td>0.487407</td>\n",
       "      <td>0.045703</td>\n",
       "      <td>0.838688</td>\n",
       "      <td>0.945833</td>\n",
       "      <td>0.417252</td>\n",
       "      <td>0.232137</td>\n",
       "      <td>0.625875</td>\n",
       "      <td>0.783263</td>\n",
       "    </tr>\n",
       "    <tr>\n",
       "      <th>2</th>\n",
       "      <td>0.857590</td>\n",
       "      <td>0.553848</td>\n",
       "      <td>0.611846</td>\n",
       "      <td>0.076953</td>\n",
       "      <td>0.633751</td>\n",
       "      <td>0.165625</td>\n",
       "      <td>0.220447</td>\n",
       "      <td>0.775531</td>\n",
       "      <td>0.287772</td>\n",
       "      <td>0.342422</td>\n",
       "    </tr>\n",
       "    <tr>\n",
       "      <th>3</th>\n",
       "      <td>0.410016</td>\n",
       "      <td>0.728893</td>\n",
       "      <td>0.803111</td>\n",
       "      <td>0.034766</td>\n",
       "      <td>0.072305</td>\n",
       "      <td>0.598958</td>\n",
       "      <td>0.116933</td>\n",
       "      <td>0.159907</td>\n",
       "      <td>0.495862</td>\n",
       "      <td>0.396328</td>\n",
       "    </tr>\n",
       "    <tr>\n",
       "      <th>4</th>\n",
       "      <td>0.629108</td>\n",
       "      <td>0.814281</td>\n",
       "      <td>0.616931</td>\n",
       "      <td>0.066016</td>\n",
       "      <td>0.125467</td>\n",
       "      <td>0.018021</td>\n",
       "      <td>0.084728</td>\n",
       "      <td>0.722191</td>\n",
       "      <td>0.580042</td>\n",
       "      <td>0.191242</td>\n",
       "    </tr>\n",
       "  </tbody>\n",
       "</table>\n",
       "</div>"
      ],
      "text/plain": [
       "          0         1         2         3         4         5         6  \\\n",
       "0  0.672926  0.574127  0.538020  0.062500  0.312142  0.000422  0.056358   \n",
       "1  0.306729  0.497278  0.487407  0.045703  0.838688  0.945833  0.417252   \n",
       "2  0.857590  0.553848  0.611846  0.076953  0.633751  0.165625  0.220447   \n",
       "3  0.410016  0.728893  0.803111  0.034766  0.072305  0.598958  0.116933   \n",
       "4  0.629108  0.814281  0.616931  0.066016  0.125467  0.018021  0.084728   \n",
       "\n",
       "          7         8         9  \n",
       "0  0.888877  0.351322  0.206656  \n",
       "1  0.232137  0.625875  0.783263  \n",
       "2  0.775531  0.287772  0.342422  \n",
       "3  0.159907  0.495862  0.396328  \n",
       "4  0.722191  0.580042  0.191242  "
      ]
     },
     "execution_count": 12,
     "metadata": {},
     "output_type": "execute_result"
    }
   ],
   "source": [
    "X_prep = feautres_scaled\n",
    "X_prep.head()"
   ]
  },
  {
   "cell_type": "code",
   "execution_count": 14,
   "metadata": {},
   "outputs": [
    {
     "data": {
      "text/plain": [
       "158"
      ]
     },
     "execution_count": 14,
     "metadata": {},
     "output_type": "execute_result"
    }
   ],
   "source": [
    "len(X_prep)"
   ]
  },
  {
   "cell_type": "markdown",
   "metadata": {},
   "source": [
    "3) Building the KMeans model on the scaled Spotify data"
   ]
  },
  {
   "cell_type": "code",
   "execution_count": 15,
   "metadata": {},
   "outputs": [
    {
     "data": {
      "text/plain": [
       "KMeans(n_clusters=3, random_state=42)"
      ]
     },
     "execution_count": 15,
     "metadata": {},
     "output_type": "execute_result"
    }
   ],
   "source": [
    "kmeans = KMeans(n_clusters=3, random_state=42)\n",
    "kmeans.fit(X_prep)"
   ]
  },
  {
   "cell_type": "markdown",
   "metadata": {},
   "source": [
    "4) Predicting / assigning and check the size of the clusters"
   ]
  },
  {
   "cell_type": "code",
   "execution_count": 16,
   "metadata": {},
   "outputs": [
    {
     "data": {
      "text/plain": [
       "array([1, 2, 1, 2, 1, 1, 2, 0, 2, 2, 1, 1, 1, 2, 0, 1, 1, 2, 1, 2, 1, 2,\n",
       "       2, 2, 2, 1, 1, 0, 0, 1, 2, 1, 1, 1, 2, 2, 0, 0, 0, 1, 1, 1, 2, 1,\n",
       "       1, 0, 0, 0, 0, 1, 1, 1, 2, 0, 1, 2, 2, 1, 0, 1, 1, 1, 1, 1, 1, 0,\n",
       "       0, 0, 1, 0, 1, 1, 1, 1, 1, 2, 0, 1, 1, 1, 1, 1, 0, 2, 0, 1, 2, 0,\n",
       "       1, 1, 1, 2, 1, 2, 1, 1, 0, 1, 0, 1, 2, 1, 0, 0, 1, 0, 1, 0, 1, 1,\n",
       "       1, 0, 0, 1, 0, 2, 0, 1, 0, 1, 1, 2, 0, 2, 1, 1, 0, 1, 0, 0, 1, 1,\n",
       "       1, 1, 0, 2, 1, 2, 0, 0, 2, 2, 0, 1, 1, 1, 0, 1, 0, 1, 1, 1, 1, 1,\n",
       "       1, 1, 1, 1])"
      ]
     },
     "execution_count": 16,
     "metadata": {},
     "output_type": "execute_result"
    }
   ],
   "source": [
    "clusters = kmeans.predict(X_prep)\n",
    "clusters"
   ]
  },
  {
   "cell_type": "code",
   "execution_count": 17,
   "metadata": {},
   "outputs": [
    {
     "data": {
      "text/plain": [
       "0    42\n",
       "1    84\n",
       "2    32\n",
       "dtype: int64"
      ]
     },
     "execution_count": 17,
     "metadata": {},
     "output_type": "execute_result"
    }
   ],
   "source": [
    "pd.Series(clusters).value_counts().sort_index()"
   ]
  },
  {
   "cell_type": "markdown",
   "metadata": {},
   "source": [
    "5) Exploring the cluster assignment in the original dataset "
   ]
  },
  {
   "cell_type": "code",
   "execution_count": 19,
   "metadata": {},
   "outputs": [
    {
     "data": {
      "text/html": [
       "<div>\n",
       "<style scoped>\n",
       "    .dataframe tbody tr th:only-of-type {\n",
       "        vertical-align: middle;\n",
       "    }\n",
       "\n",
       "    .dataframe tbody tr th {\n",
       "        vertical-align: top;\n",
       "    }\n",
       "\n",
       "    .dataframe thead th {\n",
       "        text-align: right;\n",
       "    }\n",
       "</style>\n",
       "<table border=\"1\" class=\"dataframe\">\n",
       "  <thead>\n",
       "    <tr style=\"text-align: right;\">\n",
       "      <th></th>\n",
       "      <th>0</th>\n",
       "      <th>1</th>\n",
       "      <th>2</th>\n",
       "      <th>3</th>\n",
       "      <th>4</th>\n",
       "      <th>5</th>\n",
       "      <th>6</th>\n",
       "      <th>7</th>\n",
       "      <th>8</th>\n",
       "      <th>9</th>\n",
       "      <th>cluster</th>\n",
       "    </tr>\n",
       "  </thead>\n",
       "  <tbody>\n",
       "    <tr>\n",
       "      <th>0</th>\n",
       "      <td>0.672926</td>\n",
       "      <td>0.574127</td>\n",
       "      <td>0.538020</td>\n",
       "      <td>0.062500</td>\n",
       "      <td>0.312142</td>\n",
       "      <td>0.000422</td>\n",
       "      <td>0.056358</td>\n",
       "      <td>0.888877</td>\n",
       "      <td>0.351322</td>\n",
       "      <td>0.206656</td>\n",
       "      <td>1</td>\n",
       "    </tr>\n",
       "    <tr>\n",
       "      <th>1</th>\n",
       "      <td>0.306729</td>\n",
       "      <td>0.497278</td>\n",
       "      <td>0.487407</td>\n",
       "      <td>0.045703</td>\n",
       "      <td>0.838688</td>\n",
       "      <td>0.945833</td>\n",
       "      <td>0.417252</td>\n",
       "      <td>0.232137</td>\n",
       "      <td>0.625875</td>\n",
       "      <td>0.783263</td>\n",
       "      <td>2</td>\n",
       "    </tr>\n",
       "    <tr>\n",
       "      <th>2</th>\n",
       "      <td>0.857590</td>\n",
       "      <td>0.553848</td>\n",
       "      <td>0.611846</td>\n",
       "      <td>0.076953</td>\n",
       "      <td>0.633751</td>\n",
       "      <td>0.165625</td>\n",
       "      <td>0.220447</td>\n",
       "      <td>0.775531</td>\n",
       "      <td>0.287772</td>\n",
       "      <td>0.342422</td>\n",
       "      <td>1</td>\n",
       "    </tr>\n",
       "    <tr>\n",
       "      <th>3</th>\n",
       "      <td>0.410016</td>\n",
       "      <td>0.728893</td>\n",
       "      <td>0.803111</td>\n",
       "      <td>0.034766</td>\n",
       "      <td>0.072305</td>\n",
       "      <td>0.598958</td>\n",
       "      <td>0.116933</td>\n",
       "      <td>0.159907</td>\n",
       "      <td>0.495862</td>\n",
       "      <td>0.396328</td>\n",
       "      <td>2</td>\n",
       "    </tr>\n",
       "    <tr>\n",
       "      <th>4</th>\n",
       "      <td>0.629108</td>\n",
       "      <td>0.814281</td>\n",
       "      <td>0.616931</td>\n",
       "      <td>0.066016</td>\n",
       "      <td>0.125467</td>\n",
       "      <td>0.018021</td>\n",
       "      <td>0.084728</td>\n",
       "      <td>0.722191</td>\n",
       "      <td>0.580042</td>\n",
       "      <td>0.191242</td>\n",
       "      <td>1</td>\n",
       "    </tr>\n",
       "  </tbody>\n",
       "</table>\n",
       "</div>"
      ],
      "text/plain": [
       "          0         1         2         3         4         5         6  \\\n",
       "0  0.672926  0.574127  0.538020  0.062500  0.312142  0.000422  0.056358   \n",
       "1  0.306729  0.497278  0.487407  0.045703  0.838688  0.945833  0.417252   \n",
       "2  0.857590  0.553848  0.611846  0.076953  0.633751  0.165625  0.220447   \n",
       "3  0.410016  0.728893  0.803111  0.034766  0.072305  0.598958  0.116933   \n",
       "4  0.629108  0.814281  0.616931  0.066016  0.125467  0.018021  0.084728   \n",
       "\n",
       "          7         8         9  cluster  \n",
       "0  0.888877  0.351322  0.206656        1  \n",
       "1  0.232137  0.625875  0.783263        2  \n",
       "2  0.775531  0.287772  0.342422        1  \n",
       "3  0.159907  0.495862  0.396328        2  \n",
       "4  0.722191  0.580042  0.191242        1  "
      ]
     },
     "execution_count": 19,
     "metadata": {},
     "output_type": "execute_result"
    }
   ],
   "source": [
    "X_df = pd.DataFrame(X)\n",
    "X_df[\"cluster\"] = clusters\n",
    "X_df.head()"
   ]
  },
  {
   "cell_type": "code",
   "execution_count": 20,
   "metadata": {},
   "outputs": [
    {
     "data": {
      "text/plain": [
       "(158, 11)"
      ]
     },
     "execution_count": 20,
     "metadata": {},
     "output_type": "execute_result"
    }
   ],
   "source": [
    "X_df.shape"
   ]
  },
  {
   "cell_type": "markdown",
   "metadata": {},
   "source": [
    "6) Checking the inertia value of the model"
   ]
  },
  {
   "cell_type": "code",
   "execution_count": 21,
   "metadata": {},
   "outputs": [
    {
     "data": {
      "text/plain": [
       "52.291197541612235"
      ]
     },
     "execution_count": 21,
     "metadata": {},
     "output_type": "execute_result"
    }
   ],
   "source": [
    "kmeans.inertia_"
   ]
  },
  {
   "cell_type": "markdown",
   "metadata": {},
   "source": [
    "### Choosing the best k value for the KMeans value"
   ]
  },
  {
   "cell_type": "markdown",
   "metadata": {},
   "source": [
    "7) Exploring different inertia values for different number of iterations"
   ]
  },
  {
   "cell_type": "code",
   "execution_count": 22,
   "metadata": {},
   "outputs": [
    {
     "name": "stdout",
     "output_type": "stream",
     "text": [
      "Initialization complete\n",
      "Iteration 0, inertia 102.2856900934642\n",
      "Iteration 1, inertia 52.81439259245493\n",
      "Iteration 2, inertia 52.291197541612235\n",
      "Converged at iteration 2: strict convergence.\n"
     ]
    },
    {
     "data": {
      "text/plain": [
       "52.291197541612235"
      ]
     },
     "execution_count": 22,
     "metadata": {},
     "output_type": "execute_result"
    }
   ],
   "source": [
    "kmeans = KMeans(n_clusters=3, random_state=1234, verbose=1, n_init=1)\n",
    "kmeans.fit(X_prep)\n",
    "kmeans.inertia_"
   ]
  },
  {
   "cell_type": "markdown",
   "metadata": {},
   "source": [
    "8) Deciding for a k-value with using the elbow method"
   ]
  },
  {
   "cell_type": "code",
   "execution_count": 25,
   "metadata": {},
   "outputs": [],
   "source": [
    "def elbow_method(X):\n",
    "    K = range(1, 20,2)\n",
    "    inertia = []\n",
    "    for k in K:\n",
    "        kmeans = KMeans(n_clusters=k, random_state=1234)\n",
    "        kmeans.fit(X)\n",
    "        inertia.append(kmeans.inertia_)\n",
    "    \n",
    "    plt.figure(figsize=(16,8))\n",
    "    plt.plot(K, inertia, 'bx-')\n",
    "    plt.xlabel('k')\n",
    "    plt.ylabel('inertia')\n",
    "    plt.xticks(np.arange(min(K), max(K)+1, 1.0))\n",
    "    plt.show()"
   ]
  },
  {
   "cell_type": "code",
   "execution_count": 28,
   "metadata": {},
   "outputs": [
    {
     "data": {
      "image/png": "[encoded data removed]",
      "text/plain": [
       "<Figure size 1152x576 with 1 Axes>"
      ]
     },
     "metadata": {
      "needs_background": "light"
     },
     "output_type": "display_data"
    }
   ],
   "source": [
    "elbow_method(X_prep)"
   ]
  },
  {
   "cell_type": "markdown",
   "metadata": {},
   "source": [
    "9) Improving the model with using k = 7 "
   ]
  },
  {
   "cell_type": "code",
   "execution_count": 29,
   "metadata": {},
   "outputs": [
    {
     "data": {
      "text/plain": [
       "KMeans(n_clusters=7, random_state=42)"
      ]
     },
     "execution_count": 29,
     "metadata": {},
     "output_type": "execute_result"
    }
   ],
   "source": [
    "kmeans = KMeans(n_clusters=7, random_state=42)\n",
    "kmeans.fit(X_prep)"
   ]
  },
  {
   "cell_type": "code",
   "execution_count": 30,
   "metadata": {},
   "outputs": [
    {
     "data": {
      "text/plain": [
       "array([6, 2, 6, 5, 4, 6, 2, 1, 2, 5, 6, 6, 6, 2, 3, 4, 0, 2, 6, 5, 6, 2,\n",
       "       5, 5, 2, 4, 6, 1, 3, 0, 5, 4, 6, 4, 5, 5, 3, 1, 3, 0, 4, 4, 2, 6,\n",
       "       6, 3, 3, 3, 3, 6, 0, 4, 2, 3, 6, 2, 2, 0, 3, 0, 4, 4, 4, 0, 6, 3,\n",
       "       3, 3, 0, 1, 0, 4, 6, 0, 4, 2, 1, 4, 6, 0, 0, 6, 1, 2, 1, 0, 2, 1,\n",
       "       6, 0, 6, 5, 6, 2, 4, 6, 1, 6, 3, 6, 2, 6, 3, 3, 4, 3, 4, 1, 4, 6,\n",
       "       0, 1, 1, 6, 3, 5, 1, 0, 1, 4, 0, 2, 3, 2, 6, 0, 1, 4, 1, 3, 6, 0,\n",
       "       6, 4, 3, 5, 4, 2, 3, 3, 2, 5, 3, 0, 4, 6, 3, 4, 1, 6, 6, 6, 6, 6,\n",
       "       0, 6, 6, 0])"
      ]
     },
     "execution_count": 30,
     "metadata": {},
     "output_type": "execute_result"
    }
   ],
   "source": [
    "clusters = kmeans.predict(X_prep)\n",
    "clusters"
   ]
  },
  {
   "cell_type": "code",
   "execution_count": 31,
   "metadata": {},
   "outputs": [
    {
     "data": {
      "text/plain": [
       "0    22\n",
       "1    17\n",
       "2    20\n",
       "3    25\n",
       "4    24\n",
       "5    12\n",
       "6    38\n",
       "dtype: int64"
      ]
     },
     "execution_count": 31,
     "metadata": {},
     "output_type": "execute_result"
    }
   ],
   "source": [
    "pd.Series(clusters).value_counts().sort_index()"
   ]
  },
  {
   "cell_type": "code",
   "execution_count": 32,
   "metadata": {},
   "outputs": [
    {
     "data": {
      "text/plain": [
       "40.19013224866218"
      ]
     },
     "execution_count": 32,
     "metadata": {},
     "output_type": "execute_result"
    }
   ],
   "source": [
    "kmeans.inertia_"
   ]
  },
  {
   "cell_type": "code",
   "execution_count": 35,
   "metadata": {},
   "outputs": [
    {
     "data": {
      "text/html": [
       "<div>\n",
       "<style scoped>\n",
       "    .dataframe tbody tr th:only-of-type {\n",
       "        vertical-align: middle;\n",
       "    }\n",
       "\n",
       "    .dataframe tbody tr th {\n",
       "        vertical-align: top;\n",
       "    }\n",
       "\n",
       "    .dataframe thead th {\n",
       "        text-align: right;\n",
       "    }\n",
       "</style>\n",
       "<table border=\"1\" class=\"dataframe\">\n",
       "  <thead>\n",
       "    <tr style=\"text-align: right;\">\n",
       "      <th></th>\n",
       "      <th>0</th>\n",
       "      <th>1</th>\n",
       "      <th>2</th>\n",
       "      <th>3</th>\n",
       "      <th>4</th>\n",
       "      <th>5</th>\n",
       "      <th>6</th>\n",
       "      <th>7</th>\n",
       "      <th>8</th>\n",
       "      <th>9</th>\n",
       "      <th>cluster</th>\n",
       "    </tr>\n",
       "  </thead>\n",
       "  <tbody>\n",
       "    <tr>\n",
       "      <th>0</th>\n",
       "      <td>0.672926</td>\n",
       "      <td>0.574127</td>\n",
       "      <td>0.538020</td>\n",
       "      <td>0.062500</td>\n",
       "      <td>0.312142</td>\n",
       "      <td>0.000422</td>\n",
       "      <td>0.056358</td>\n",
       "      <td>0.888877</td>\n",
       "      <td>0.351322</td>\n",
       "      <td>0.206656</td>\n",
       "      <td>6</td>\n",
       "    </tr>\n",
       "    <tr>\n",
       "      <th>1</th>\n",
       "      <td>0.306729</td>\n",
       "      <td>0.497278</td>\n",
       "      <td>0.487407</td>\n",
       "      <td>0.045703</td>\n",
       "      <td>0.838688</td>\n",
       "      <td>0.945833</td>\n",
       "      <td>0.417252</td>\n",
       "      <td>0.232137</td>\n",
       "      <td>0.625875</td>\n",
       "      <td>0.783263</td>\n",
       "      <td>2</td>\n",
       "    </tr>\n",
       "    <tr>\n",
       "      <th>2</th>\n",
       "      <td>0.857590</td>\n",
       "      <td>0.553848</td>\n",
       "      <td>0.611846</td>\n",
       "      <td>0.076953</td>\n",
       "      <td>0.633751</td>\n",
       "      <td>0.165625</td>\n",
       "      <td>0.220447</td>\n",
       "      <td>0.775531</td>\n",
       "      <td>0.287772</td>\n",
       "      <td>0.342422</td>\n",
       "      <td>6</td>\n",
       "    </tr>\n",
       "    <tr>\n",
       "      <th>3</th>\n",
       "      <td>0.410016</td>\n",
       "      <td>0.728893</td>\n",
       "      <td>0.803111</td>\n",
       "      <td>0.034766</td>\n",
       "      <td>0.072305</td>\n",
       "      <td>0.598958</td>\n",
       "      <td>0.116933</td>\n",
       "      <td>0.159907</td>\n",
       "      <td>0.495862</td>\n",
       "      <td>0.396328</td>\n",
       "      <td>5</td>\n",
       "    </tr>\n",
       "    <tr>\n",
       "      <th>4</th>\n",
       "      <td>0.629108</td>\n",
       "      <td>0.814281</td>\n",
       "      <td>0.616931</td>\n",
       "      <td>0.066016</td>\n",
       "      <td>0.125467</td>\n",
       "      <td>0.018021</td>\n",
       "      <td>0.084728</td>\n",
       "      <td>0.722191</td>\n",
       "      <td>0.580042</td>\n",
       "      <td>0.191242</td>\n",
       "      <td>4</td>\n",
       "    </tr>\n",
       "  </tbody>\n",
       "</table>\n",
       "</div>"
      ],
      "text/plain": [
       "          0         1         2         3         4         5         6  \\\n",
       "0  0.672926  0.574127  0.538020  0.062500  0.312142  0.000422  0.056358   \n",
       "1  0.306729  0.497278  0.487407  0.045703  0.838688  0.945833  0.417252   \n",
       "2  0.857590  0.553848  0.611846  0.076953  0.633751  0.165625  0.220447   \n",
       "3  0.410016  0.728893  0.803111  0.034766  0.072305  0.598958  0.116933   \n",
       "4  0.629108  0.814281  0.616931  0.066016  0.125467  0.018021  0.084728   \n",
       "\n",
       "          7         8         9  cluster  \n",
       "0  0.888877  0.351322  0.206656        6  \n",
       "1  0.232137  0.625875  0.783263        2  \n",
       "2  0.775531  0.287772  0.342422        6  \n",
       "3  0.159907  0.495862  0.396328        5  \n",
       "4  0.722191  0.580042  0.191242        4  "
      ]
     },
     "execution_count": 35,
     "metadata": {},
     "output_type": "execute_result"
    }
   ],
   "source": [
    "feautres_scaled_clustered = pd.DataFrame(X)\n",
    "feautres_scaled_clustered[\"cluster\"] = clusters\n",
    "feautres_scaled_clustered.head()"
   ]
  },
  {
   "cell_type": "code",
   "execution_count": 38,
   "metadata": {},
   "outputs": [],
   "source": [
    "feautres_scaled_clustered.shape"
   ]
  },
  {
   "cell_type": "markdown",
   "metadata": {},
   "source": [
    "10) Save the clustered data as csv "
   ]
  },
  {
   "cell_type": "code",
   "execution_count": null,
   "metadata": {},
   "outputs": [],
   "source": [
    "feautres_scaled_clustered.to_csv('top_spotify_clustered.csv', index=False)"
   ]
  }
 ],
 "metadata": {
  "kernelspec": {
   "display_name": "Python 3",
   "language": "python",
   "name": "python3"
  },
  "language_info": {
   "codemirror_mode": {
    "name": "ipython",
    "version": 3
   },
   "file_extension": ".py",
   "mimetype": "text/x-python",
   "name": "python",
   "nbconvert_exporter": "python",
   "pygments_lexer": "ipython3",
   "version": "3.8.8"
  }
 },
 "nbformat": 4,
 "nbformat_minor": 4
}
